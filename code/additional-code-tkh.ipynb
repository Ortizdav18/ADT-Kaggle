{
 "cells": [
  {
   "cell_type": "code",
   "execution_count": null,
   "metadata": {
    "collapsed": true
   },
   "outputs": [],
   "source": [
    "for i in ['AvgSpeed', 'Cool', 'Heat', 'SeaLevel']:\n",
    "    cdf[i] = cdf[i].astype(float)"
   ]
  },
  {
   "cell_type": "code",
   "execution_count": null,
   "metadata": {
    "collapsed": true
   },
   "outputs": [],
   "source": [
    "precip_mean = cdf[(cdf.PrecipTotal != '  T') & (cdf.PrecipTotal != 'M')].PrecipTotal.astype(float).mean()\n",
    "precip_mean"
   ]
  },
  {
   "cell_type": "code",
   "execution_count": null,
   "metadata": {
    "collapsed": true
   },
   "outputs": [],
   "source": [
    "stnpressure_mean = cdf[(cdf.StnPressure != 'M')].StnPressure.astype(float).mean()\n",
    "stnpressure_mean"
   ]
  },
  {
   "cell_type": "code",
   "execution_count": null,
   "metadata": {
    "collapsed": true
   },
   "outputs": [],
   "source": [
    "wetbulb_mean = cdf[(cdf.WetBulb != 'M')].WetBulb.astype(float).mean()\n",
    "wetbulb_mean"
   ]
  },
  {
   "cell_type": "code",
   "execution_count": null,
   "metadata": {
    "collapsed": true
   },
   "outputs": [],
   "source": [
    "# replacing null values with mean values, but could drop these rows because of few observations\n",
    "cdf.PrecipTotal = cdf.PrecipTotal.str.replace('  T', str(precip_mean)).str.replace('M', str(precip_mean)).astype(float)\n",
    "cdf.StnPressure = cdf.StnPressure.str.replace('M', str(stnpressure_mean)).astype(float)\n",
    "cdf.WetBulb = cdf.WetBulb.str.replace('M', str(wetbulb_mean)).astype(float)"
   ]
  },
  {
   "cell_type": "code",
   "execution_count": null,
   "metadata": {
    "collapsed": true
   },
   "outputs": [],
   "source": [
    "cdf.Tavg = cdf.Tavg.astype(int)"
   ]
  }
 ],
 "metadata": {
  "kernelspec": {
   "display_name": "Python 2",
   "language": "python",
   "name": "python2"
  },
  "language_info": {
   "codemirror_mode": {
    "name": "ipython",
    "version": 2
   },
   "file_extension": ".py",
   "mimetype": "text/x-python",
   "name": "python",
   "nbconvert_exporter": "python",
   "pygments_lexer": "ipython2",
   "version": "2.7.13"
  }
 },
 "nbformat": 4,
 "nbformat_minor": 2
}
